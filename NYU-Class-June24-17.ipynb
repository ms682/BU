{
 "cells": [
  {
   "cell_type": "code",
   "execution_count": null,
   "metadata": {
    "collapsed": true
   },
   "outputs": [],
   "source": [
    "# Python 3.6 Basics (Michelle S)\n",
    "# Tip: Use '#' to create comments\n",
    "# Reference: https://docs.python.org/3/tutorial/index.html\n",
    "#            http://www.stackoverflow.com"
   ]
  },
  {
   "cell_type": "code",
   "execution_count": 1,
   "metadata": {
    "collapsed": false
   },
   "outputs": [
    {
     "data": {
      "text/plain": [
       "5"
      ]
     },
     "execution_count": 1,
     "metadata": {},
     "output_type": "execute_result"
    }
   ],
   "source": [
    "# To run code in a python notebook, highlight the cell and press Shift + Enter keys together\n",
    "\n",
    "1+4"
   ]
  },
  {
   "cell_type": "code",
   "execution_count": 2,
   "metadata": {
    "collapsed": false
   },
   "outputs": [
    {
     "data": {
      "text/plain": [
       "56"
      ]
     },
     "execution_count": 2,
     "metadata": {},
     "output_type": "execute_result"
    }
   ],
   "source": [
    "7*8"
   ]
  },
  {
   "cell_type": "code",
   "execution_count": 3,
   "metadata": {
    "collapsed": true
   },
   "outputs": [],
   "source": [
    "# Declaring variables\n",
    "\n",
    "x = 1\n",
    "y = 4"
   ]
  },
  {
   "cell_type": "code",
   "execution_count": 4,
   "metadata": {
    "collapsed": false
   },
   "outputs": [
    {
     "name": "stdout",
     "output_type": "stream",
     "text": [
      "1\n",
      "5\n"
     ]
    }
   ],
   "source": [
    "# Print() to display the value of a variable or expression in the notebook\n",
    "# Note: In python 3.6 remember to use parentheses ()\n",
    "print(x)\n",
    "print(x+y)"
   ]
  },
  {
   "cell_type": "code",
   "execution_count": null,
   "metadata": {
    "collapsed": true
   },
   "outputs": [],
   "source": [
    "# Tip: To keep track of your variables, give them descriptive names instead of just x and y"
   ]
  },
  {
   "cell_type": "code",
   "execution_count": 5,
   "metadata": {
    "collapsed": false
   },
   "outputs": [
    {
     "name": "stdout",
     "output_type": "stream",
     "text": [
      "Hello there\n"
     ]
    }
   ],
   "source": [
    "# String\n",
    "\n",
    "string_example = \"Hello there\"\n",
    "print(string_example)"
   ]
  },
  {
   "cell_type": "code",
   "execution_count": 6,
   "metadata": {
    "collapsed": false
   },
   "outputs": [
    {
     "name": "stdout",
     "output_type": "stream",
     "text": [
      "11\n"
     ]
    }
   ],
   "source": [
    "# Len() function to determine length of a string, i.e. number of characters\n",
    "\n",
    "string_example_length = len(string_example)\n",
    "print(string_example_length)"
   ]
  },
  {
   "cell_type": "code",
   "execution_count": 8,
   "metadata": {
    "collapsed": false
   },
   "outputs": [
    {
     "name": "stdout",
     "output_type": "stream",
     "text": [
      "The first letter is H\n",
      "The seventh letter is t\n"
     ]
    }
   ],
   "source": [
    "# Index on a string\n",
    "# Since strings are ordered and sequential, can access elements of a string using an index\n",
    "# Note: Python starts counting at zero so to refer to the seventh character, \"t\", use index 6 \n",
    "\n",
    "print(\"The first letter is \" + string_example[0])\n",
    "print(\"The seventh letter is \" + string_example[6])"
   ]
  },
  {
   "cell_type": "code",
   "execution_count": 9,
   "metadata": {
    "collapsed": false
   },
   "outputs": [
    {
     "name": "stdout",
     "output_type": "stream",
     "text": [
      "The second word is there\n"
     ]
    }
   ],
   "source": [
    "# Can refer to a section of the string\n",
    "print(\"The second word is \" + string_example[6:11])"
   ]
  },
  {
   "cell_type": "code",
   "execution_count": 10,
   "metadata": {
    "collapsed": false
   },
   "outputs": [
    {
     "ename": "NameError",
     "evalue": "name 'z' is not defined",
     "output_type": "error",
     "traceback": [
      "\u001b[0;31m---------------------------------------------------------------------------\u001b[0m",
      "\u001b[0;31mNameError\u001b[0m                                 Traceback (most recent call last)",
      "\u001b[0;32m<ipython-input-10-0a08d1e4f346>\u001b[0m in \u001b[0;36m<module>\u001b[0;34m()\u001b[0m\n\u001b[0;32m----> 1\u001b[0;31m \u001b[0mprint\u001b[0m\u001b[0;34m(\u001b[0m\u001b[0mz\u001b[0m\u001b[0;34m)\u001b[0m\u001b[0;34m\u001b[0m\u001b[0m\n\u001b[0m",
      "\u001b[0;31mNameError\u001b[0m: name 'z' is not defined"
     ]
    }
   ],
   "source": [
    "print(z)"
   ]
  },
  {
   "cell_type": "code",
   "execution_count": 11,
   "metadata": {
    "collapsed": false
   },
   "outputs": [
    {
     "data": {
      "text/plain": [
       "str"
      ]
     },
     "execution_count": 11,
     "metadata": {},
     "output_type": "execute_result"
    }
   ],
   "source": [
    "# Type() function to check the type of a variable\n",
    "# Data types: https://docs.python.org/3/library/datatypes.html\n",
    "\n",
    "type(string_example)"
   ]
  },
  {
   "cell_type": "code",
   "execution_count": 12,
   "metadata": {
    "collapsed": false
   },
   "outputs": [
    {
     "name": "stdout",
     "output_type": "stream",
     "text": [
      "3\n"
     ]
    }
   ],
   "source": [
    "# Integers\n",
    "integer_example_a = 0\n",
    "integer_example_b = 1\n",
    "integer_example_c = 2\n",
    "\n",
    "sum_example = integer_example_b + integer_example_c\n",
    "print(sum_example)"
   ]
  },
  {
   "cell_type": "code",
   "execution_count": 13,
   "metadata": {
    "collapsed": false
   },
   "outputs": [
    {
     "data": {
      "text/plain": [
       "int"
      ]
     },
     "execution_count": 13,
     "metadata": {},
     "output_type": "execute_result"
    }
   ],
   "source": [
    "type(integer_example_b)"
   ]
  },
  {
   "cell_type": "code",
   "execution_count": null,
   "metadata": {
    "collapsed": true
   },
   "outputs": [],
   "source": [
    "# Boolean\n",
    "# https://docs.python.org/3/library/stdtypes.html#boolean-operations-and-or-not\n",
    "# Use == to determine if one side of the expression is equal to the other"
   ]
  },
  {
   "cell_type": "code",
   "execution_count": null,
   "metadata": {
    "collapsed": true
   },
   "outputs": [],
   "source": [
    "# And\n",
    "# Both sides need to be true to make the expression true "
   ]
  },
  {
   "cell_type": "code",
   "execution_count": 14,
   "metadata": {
    "collapsed": false
   },
   "outputs": [
    {
     "data": {
      "text/plain": [
       "True"
      ]
     },
     "execution_count": 14,
     "metadata": {},
     "output_type": "execute_result"
    }
   ],
   "source": [
    "# True since both expressions are true\n",
    "integer_example_a == 0 and integer_example_b == 1 "
   ]
  },
  {
   "cell_type": "code",
   "execution_count": 15,
   "metadata": {
    "collapsed": false
   },
   "outputs": [
    {
     "data": {
      "text/plain": [
       "False"
      ]
     },
     "execution_count": 15,
     "metadata": {},
     "output_type": "execute_result"
    }
   ],
   "source": [
    "# One side is false, so this expression returns false\n",
    "integer_example_a == 0 and integer_example_b > 6"
   ]
  },
  {
   "cell_type": "code",
   "execution_count": 16,
   "metadata": {
    "collapsed": false
   },
   "outputs": [
    {
     "data": {
      "text/plain": [
       "True"
      ]
     },
     "execution_count": 16,
     "metadata": {},
     "output_type": "execute_result"
    }
   ],
   "source": [
    "# Or\n",
    "# Just one side need to be true to make the expression true \n",
    "# One side is false, but this expression returns false since 'or' is used \n",
    "\n",
    "integer_example_a == 0 or integer_example_b > 6"
   ]
  },
  {
   "cell_type": "code",
   "execution_count": null,
   "metadata": {
    "collapsed": true
   },
   "outputs": [],
   "source": [
    "# In python, everything has a boolean value\n",
    "# Zero or nothing = False \n",
    "# Non-zero or something = True\n",
    "# Use bool() function to determine the boolean value"
   ]
  },
  {
   "cell_type": "code",
   "execution_count": 17,
   "metadata": {
    "collapsed": false
   },
   "outputs": [
    {
     "name": "stdout",
     "output_type": "stream",
     "text": [
      "False\n"
     ]
    }
   ],
   "source": [
    "# False since integer_example_a is zero\n",
    "boolean_value_a = bool(integer_example_a)\n",
    "print(boolean_value_a)"
   ]
  },
  {
   "cell_type": "code",
   "execution_count": 18,
   "metadata": {
    "collapsed": false
   },
   "outputs": [
    {
     "name": "stdout",
     "output_type": "stream",
     "text": [
      "True\n"
     ]
    }
   ],
   "source": [
    "# True since integer_example_b = 1\n",
    "boolean_value_b = bool(integer_example_b) \n",
    "print(boolean_value_b)"
   ]
  },
  {
   "cell_type": "code",
   "execution_count": null,
   "metadata": {
    "collapsed": true
   },
   "outputs": [],
   "source": [
    "# Lists\n",
    "# Compound data type used to group together other values\n",
    "# Comma-separated items between square brackets []\n",
    "# Mutable (contents can be modified)\n",
    "# Reference: https://docs.python.org/3/tutorial/introduction.html#lists"
   ]
  },
  {
   "cell_type": "code",
   "execution_count": 19,
   "metadata": {
    "collapsed": true
   },
   "outputs": [],
   "source": [
    "# List example\n",
    "\n",
    "list_boroughs=['Manhattan','Brooklyn','Queens','Bronx','Staten Island'] "
   ]
  },
  {
   "cell_type": "code",
   "execution_count": 20,
   "metadata": {
    "collapsed": false
   },
   "outputs": [
    {
     "name": "stdout",
     "output_type": "stream",
     "text": [
      "5\n"
     ]
    }
   ],
   "source": [
    "# # Len() to determine length of a list, i.e. number of items\n",
    "\n",
    "length_of_boroughs = len(list_boroughs)\n",
    "print(length_of_boroughs)"
   ]
  },
  {
   "cell_type": "code",
   "execution_count": 21,
   "metadata": {
    "collapsed": false
   },
   "outputs": [
    {
     "name": "stdout",
     "output_type": "stream",
     "text": [
      "The first item in the boroughs list is Manhattan\n",
      "The fourth item in the boroughs list is Bronx\n"
     ]
    }
   ],
   "source": [
    "# Index on a list\n",
    "# Since lists are ordered, sequential can access to elements of a list using an index\n",
    "# Note: python starts counting at zero so to refer to the fourth item, Bronx, use index 3 \n",
    "\n",
    "print(\"The first item in the boroughs list is \" + list_boroughs[0])\n",
    "print(\"The fourth item in the boroughs list is \" + list_boroughs[3])"
   ]
  },
  {
   "cell_type": "code",
   "execution_count": 22,
   "metadata": {
    "collapsed": false
   },
   "outputs": [
    {
     "name": "stdout",
     "output_type": "stream",
     "text": [
      "[0, 1, 2, 3, 4, 5, 6, 7, 8, 9]\n"
     ]
    }
   ],
   "source": [
    "# Range() function\n",
    "# Creates arithmetic progressions with three arguments: start, end, increments \n",
    "# Can save output to a list\n",
    "\n",
    "range_example = list(range(0, 10))\n",
    "print(range_example)"
   ]
  },
  {
   "cell_type": "code",
   "execution_count": 23,
   "metadata": {
    "collapsed": false
   },
   "outputs": [
    {
     "name": "stdout",
     "output_type": "stream",
     "text": [
      "[0, 25, 50, 75]\n"
     ]
    }
   ],
   "source": [
    "range_example_2 = list(range(0, 100, 25))\n",
    "print(range_example_2)"
   ]
  },
  {
   "cell_type": "code",
   "execution_count": 24,
   "metadata": {
    "collapsed": false
   },
   "outputs": [
    {
     "name": "stdout",
     "output_type": "stream",
     "text": [
      "[1, 2, 3, 4]\n"
     ]
    }
   ],
   "source": [
    "list_numbers = [1,2,3,4]\n",
    "print(list_numbers)"
   ]
  },
  {
   "cell_type": "code",
   "execution_count": 25,
   "metadata": {
    "collapsed": false
   },
   "outputs": [
    {
     "name": "stdout",
     "output_type": "stream",
     "text": [
      "[1, 2, 3, 4, 5]\n"
     ]
    }
   ],
   "source": [
    "# Append function for a list\n",
    "# Add an item to the end of the list\n",
    "# Reference: https://docs.python.org/3/tutorial/datastructures.html\n",
    "\n",
    "list_numbers.append(5)\n",
    "print(list_numbers)"
   ]
  },
  {
   "cell_type": "code",
   "execution_count": 26,
   "metadata": {
    "collapsed": false
   },
   "outputs": [
    {
     "name": "stdout",
     "output_type": "stream",
     "text": [
      "[1, 2, 3, 4]\n"
     ]
    }
   ],
   "source": [
    "# Remove function for a list\n",
    "# Remove the first item from the list whose value is x\n",
    "\n",
    "list_numbers.remove(5)\n",
    "print(list_numbers)"
   ]
  },
  {
   "cell_type": "code",
   "execution_count": 27,
   "metadata": {
    "collapsed": false
   },
   "outputs": [
    {
     "name": "stdout",
     "output_type": "stream",
     "text": [
      "[4, 3, 2, 1]\n"
     ]
    }
   ],
   "source": [
    "# Reverse function for a list\n",
    "# Reverse the elements of the list in place\n",
    "\n",
    "list_numbers.reverse()\n",
    "print(list_numbers)"
   ]
  },
  {
   "cell_type": "code",
   "execution_count": 28,
   "metadata": {
    "collapsed": false
   },
   "outputs": [
    {
     "name": "stdout",
     "output_type": "stream",
     "text": [
      "[1, 2, 3, 4]\n"
     ]
    }
   ],
   "source": [
    "# Sort function for a list\n",
    "# Sort the items of the list in place\n",
    "\n",
    "list_numbers.sort()\n",
    "print(list_numbers)"
   ]
  },
  {
   "cell_type": "code",
   "execution_count": 29,
   "metadata": {
    "collapsed": false
   },
   "outputs": [
    {
     "name": "stdout",
     "output_type": "stream",
     "text": [
      "[1, 2, 3, 5]\n"
     ]
    }
   ],
   "source": [
    "# Index can also be used to assign values to a list\n",
    "\n",
    "list_numbers[3] = 5\n",
    "print(list_numbers)"
   ]
  },
  {
   "cell_type": "code",
   "execution_count": 30,
   "metadata": {
    "collapsed": false
   },
   "outputs": [
    {
     "data": {
      "text/plain": [
       "2"
      ]
     },
     "execution_count": 30,
     "metadata": {},
     "output_type": "execute_result"
    }
   ],
   "source": [
    "list_numbers[1]"
   ]
  },
  {
   "cell_type": "code",
   "execution_count": 31,
   "metadata": {
    "collapsed": false
   },
   "outputs": [
    {
     "name": "stdout",
     "output_type": "stream",
     "text": [
      "[1, 2]\n"
     ]
    }
   ],
   "source": [
    "# Can refer to certain items in a list\n",
    "\n",
    "print(list_numbers[0:2])"
   ]
  },
  {
   "cell_type": "code",
   "execution_count": 32,
   "metadata": {
    "collapsed": false
   },
   "outputs": [
    {
     "name": "stdout",
     "output_type": "stream",
     "text": [
      "['circle', 'square', 'triangle']\n"
     ]
    }
   ],
   "source": [
    "# Nested lists - a list can be made up of lists\n",
    "\n",
    "list_nested = []\n",
    "list_nested = [['circle','square', 'triangle'], ['red','yellow','blue']]\n",
    "print(list_nested[0])"
   ]
  },
  {
   "cell_type": "code",
   "execution_count": 33,
   "metadata": {
    "collapsed": false
   },
   "outputs": [
    {
     "name": "stdout",
     "output_type": "stream",
     "text": [
      "square\n"
     ]
    }
   ],
   "source": [
    "# Can use indices to refer to the second item in the first list\n",
    "print(list_nested[0][1])"
   ]
  },
  {
   "cell_type": "code",
   "execution_count": 34,
   "metadata": {
    "collapsed": false
   },
   "outputs": [
    {
     "name": "stdout",
     "output_type": "stream",
     "text": [
      "Blue\n"
     ]
    }
   ],
   "source": [
    "# Dictionaries\n",
    "# Dictionaries are unordered.  They have unique key: value pairs and retrieval through lookups\n",
    "# Reference: https://docs.python.org/3/tutorial/datastructures.html#dictionaries\n",
    "\n",
    "dict_face = {'Hair': 'Brown', 'Eyes': 'Blue'}\n",
    "\n",
    "print(dict_face['Eyes'])"
   ]
  },
  {
   "cell_type": "code",
   "execution_count": null,
   "metadata": {
    "collapsed": true
   },
   "outputs": [],
   "source": [
    "# Note: Indents are important in python, they help to group together blocks of code"
   ]
  },
  {
   "cell_type": "code",
   "execution_count": 35,
   "metadata": {
    "collapsed": false
   },
   "outputs": [
    {
     "name": "stdout",
     "output_type": "stream",
     "text": [
      "Sorry, must be over 4 feet tall to board this ride\n"
     ]
    }
   ],
   "source": [
    "# If\n",
    "# Reference: https://docs.python.org/3/tutorial/controlflow.html\n",
    "# \n",
    "# if (condition 1):\n",
    "#   do something if condition 1 = true\n",
    "# elif (condition 2):\n",
    "#   do something else if condition 2 = true\n",
    "# else:\n",
    "#   do stuff if neither condition 1 nor condition 2 = true\n",
    " \n",
    "height_kid_1 = 3\n",
    "minimum_height = 4\n",
    "\n",
    "if (height_kid_1 > minimum_height):\n",
    "   print('Welcome to the ride!') \n",
    "else:\n",
    "   print('Sorry, must be over 4 feet tall to board this ride')"
   ]
  },
  {
   "cell_type": "code",
   "execution_count": 37,
   "metadata": {
    "collapsed": false
   },
   "outputs": [
    {
     "name": "stdout",
     "output_type": "stream",
     "text": [
      "Manhattan\n",
      "Brooklyn\n",
      "Queens\n",
      "Bronx\n",
      "Staten Island\n"
     ]
    }
   ],
   "source": [
    "# For loop\n",
    "# Note: 'thing' can be replaced by another word\n",
    "\n",
    "for whatever in list_boroughs:\n",
    "    print(whatever)"
   ]
  },
  {
   "cell_type": "code",
   "execution_count": 38,
   "metadata": {
    "collapsed": false
   },
   "outputs": [
    {
     "name": "stdout",
     "output_type": "stream",
     "text": [
      "Manhattan\n",
      "Brooklyn\n",
      "Queens\n",
      "Bronx\n",
      "Staten Island\n"
     ]
    }
   ],
   "source": [
    "# For loop using range and length\n",
    "\n",
    "for thing in range(0,len(list_boroughs)):\n",
    "    print(list_boroughs[thing])"
   ]
  },
  {
   "cell_type": "code",
   "execution_count": 39,
   "metadata": {
    "collapsed": false
   },
   "outputs": [
    {
     "name": "stdout",
     "output_type": "stream",
     "text": [
      "Manhattan\n",
      "Brooklyn\n",
      "Queens\n",
      "Bronx\n",
      "Staten Island\n"
     ]
    }
   ],
   "source": [
    "# While loops\n",
    "\n",
    "x = 0\n",
    "while x < len(list_boroughs):\n",
    "    print(list_boroughs[x])\n",
    "    x = x+1"
   ]
  },
  {
   "cell_type": "code",
   "execution_count": 42,
   "metadata": {
    "collapsed": false
   },
   "outputs": [
    {
     "name": "stdout",
     "output_type": "stream",
     "text": [
      "5 x 8 = 63\n"
     ]
    }
   ],
   "source": [
    "# Functions\n",
    "# Allow for reuable code\n",
    "\n",
    "def multiply_function_random_name(x, y):\n",
    "    return x*y\n",
    "\n",
    "print('5 x 8 =', multiply_function_random_name(7, 9))"
   ]
  },
  {
   "cell_type": "code",
   "execution_count": null,
   "metadata": {
    "collapsed": true
   },
   "outputs": [],
   "source": [
    "# Import python libraries\n",
    "# Reference: https://docs.python.org/3/library/index.html"
   ]
  },
  {
   "cell_type": "code",
   "execution_count": 44,
   "metadata": {
    "collapsed": false
   },
   "outputs": [
    {
     "name": "stdout",
     "output_type": "stream",
     "text": [
      "2010-01-10 11:30:45\n"
     ]
    }
   ],
   "source": [
    "# Datetime python library handles time\n",
    "import datetime as dt\n",
    "important_date = dt.date(2010,1,10)\n",
    "important_time = dt.time(11,30,45)\n",
    "print(important_date,important_time)"
   ]
  },
  {
   "cell_type": "code",
   "execution_count": 43,
   "metadata": {
    "collapsed": false
   },
   "outputs": [
    {
     "name": "stdout",
     "output_type": "stream",
     "text": [
      "8.0\n"
     ]
    }
   ],
   "source": [
    "# Math library provides mathematics functions\n",
    "\n",
    "import math\n",
    "print(math.sqrt(64))"
   ]
  },
  {
   "cell_type": "code",
   "execution_count": null,
   "metadata": {
    "collapsed": true
   },
   "outputs": [],
   "source": [
    "# Dataframes\n",
    "# Dataframes help you analyze large amounts of data\n",
    "# Pandas http://pandas.pydata.org"
   ]
  },
  {
   "cell_type": "code",
   "execution_count": 45,
   "metadata": {
    "collapsed": false
   },
   "outputs": [
    {
     "data": {
      "text/html": [
       "<div>\n",
       "<table border=\"1\" class=\"dataframe\">\n",
       "  <thead>\n",
       "    <tr style=\"text-align: right;\">\n",
       "      <th></th>\n",
       "      <th>Name</th>\n",
       "      <th>Gender</th>\n",
       "      <th>Age</th>\n",
       "    </tr>\n",
       "  </thead>\n",
       "  <tbody>\n",
       "    <tr>\n",
       "      <th>0</th>\n",
       "      <td>patient 1</td>\n",
       "      <td>F</td>\n",
       "      <td>30</td>\n",
       "    </tr>\n",
       "    <tr>\n",
       "      <th>1</th>\n",
       "      <td>patient 2</td>\n",
       "      <td>M</td>\n",
       "      <td>28</td>\n",
       "    </tr>\n",
       "    <tr>\n",
       "      <th>2</th>\n",
       "      <td>patient 3</td>\n",
       "      <td>F</td>\n",
       "      <td>35</td>\n",
       "    </tr>\n",
       "    <tr>\n",
       "      <th>3</th>\n",
       "      <td>patient 4</td>\n",
       "      <td>F</td>\n",
       "      <td>38</td>\n",
       "    </tr>\n",
       "    <tr>\n",
       "      <th>4</th>\n",
       "      <td>patient 5</td>\n",
       "      <td>M</td>\n",
       "      <td>31</td>\n",
       "    </tr>\n",
       "  </tbody>\n",
       "</table>\n",
       "</div>"
      ],
      "text/plain": [
       "        Name Gender  Age\n",
       "0  patient 1      F   30\n",
       "1  patient 2      M   28\n",
       "2  patient 3      F   35\n",
       "3  patient 4      F   38\n",
       "4  patient 5      M   31"
      ]
     },
     "execution_count": 45,
     "metadata": {},
     "output_type": "execute_result"
    }
   ],
   "source": [
    "import pandas as pd\n",
    "\n",
    "df_list_1 = ['patient 1','F',30]\n",
    "df_list_2 = ['patient 2','M',28]\n",
    "df_list_3 = ['patient 3','F',35]\n",
    "df_list_4 = ['patient 4','F',38]\n",
    "df_list_5 = ['patient 5','M',31]\n",
    "\n",
    "patient_df = pd.DataFrame([df_list_1,df_list_2,df_list_3,df_list_4,df_list_5],columns=['Name','Gender','Age'])\n",
    "patient_df"
   ]
  },
  {
   "cell_type": "code",
   "execution_count": null,
   "metadata": {
    "collapsed": true
   },
   "outputs": [],
   "source": [
    "# NumPy http://www.numpy.org\n",
    "\n",
    "import numpy as np\n",
    "np.mean(patient_df['Age'])"
   ]
  },
  {
   "cell_type": "code",
   "execution_count": null,
   "metadata": {
    "collapsed": true
   },
   "outputs": [],
   "source": [
    "# Descrbe() provides a summary of key statistics\n",
    "\n",
    "patient_df.describe()"
   ]
  },
  {
   "cell_type": "code",
   "execution_count": null,
   "metadata": {
    "collapsed": true
   },
   "outputs": [],
   "source": [
    "# Import - other \n",
    "# SciPy             https://www.scipy.org\n",
    "# Scikit-learn      http://scikit-learn.org/\n",
    "# Selenium          https://pypi.python.org/pypi/selenium\n",
    "# Beautiful Soup    https://pypi.python.org/pypi/beautifulsoup4\n"
   ]
  }
 ],
 "metadata": {
  "kernelspec": {
   "display_name": "Python 3",
   "language": "python",
   "name": "python3"
  },
  "language_info": {
   "codemirror_mode": {
    "name": "ipython",
    "version": 3
   },
   "file_extension": ".py",
   "mimetype": "text/x-python",
   "name": "python",
   "nbconvert_exporter": "python",
   "pygments_lexer": "ipython3",
   "version": "3.6.0"
  }
 },
 "nbformat": 4,
 "nbformat_minor": 2
}
